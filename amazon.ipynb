{
 "cells": [
  {
   "cell_type": "markdown",
   "metadata": {},
   "source": [
    "### В качестве проекта, возьмем датасет 'Amazon Fine Food Reviews' с сайта kaggle.com. В данном датасете представлено 568454 отзыва о различных продуктах с сайта Amazon. Попробуем предсказать оценку продукта, на основе отзывов."
   ]
  },
  {
   "cell_type": "code",
   "execution_count": 1,
   "metadata": {},
   "outputs": [],
   "source": [
    "import pandas as pd\n",
    "import numpy as np\n",
    "from matplotlib import pyplot as plt\n",
    "%matplotlib inline\n",
    "\n",
    "import seaborn as sns\n",
    "from collections import Counter\n",
    "from sklearn.model_selection import train_test_split\n",
    "from sklearn import metrics\n",
    "\n",
    "from sklearn.feature_extraction.text import CountVectorizer\n",
    "from sklearn.feature_extraction.text import TfidfVectorizer\n",
    "\n",
    "import re\n",
    "import nltk\n",
    "import os"
   ]
  },
  {
   "cell_type": "code",
   "execution_count": 2,
   "metadata": {},
   "outputs": [],
   "source": [
    "reviews = pd.read_csv('Reviews.csv')"
   ]
  },
  {
   "cell_type": "code",
   "execution_count": 3,
   "metadata": {},
   "outputs": [
    {
     "data": {
      "text/plain": [
       "Index([u'Id', u'ProductId', u'UserId', u'ProfileName', u'HelpfulnessNumerator',\n",
       "       u'HelpfulnessDenominator', u'Score', u'Time', u'Summary', u'Text'],\n",
       "      dtype='object')"
      ]
     },
     "execution_count": 3,
     "metadata": {},
     "output_type": "execute_result"
    }
   ],
   "source": [
    "reviews.columns"
   ]
  },
  {
   "cell_type": "code",
   "execution_count": 4,
   "metadata": {},
   "outputs": [
    {
     "data": {
      "text/html": [
       "<div>\n",
       "<style scoped>\n",
       "    .dataframe tbody tr th:only-of-type {\n",
       "        vertical-align: middle;\n",
       "    }\n",
       "\n",
       "    .dataframe tbody tr th {\n",
       "        vertical-align: top;\n",
       "    }\n",
       "\n",
       "    .dataframe thead th {\n",
       "        text-align: right;\n",
       "    }\n",
       "</style>\n",
       "<table border=\"1\" class=\"dataframe\">\n",
       "  <thead>\n",
       "    <tr style=\"text-align: right;\">\n",
       "      <th></th>\n",
       "      <th>Id</th>\n",
       "      <th>ProductId</th>\n",
       "      <th>UserId</th>\n",
       "      <th>ProfileName</th>\n",
       "      <th>HelpfulnessNumerator</th>\n",
       "      <th>HelpfulnessDenominator</th>\n",
       "      <th>Score</th>\n",
       "      <th>Time</th>\n",
       "      <th>Summary</th>\n",
       "      <th>Text</th>\n",
       "    </tr>\n",
       "  </thead>\n",
       "  <tbody>\n",
       "    <tr>\n",
       "      <th>0</th>\n",
       "      <td>1</td>\n",
       "      <td>B001E4KFG0</td>\n",
       "      <td>A3SGXH7AUHU8GW</td>\n",
       "      <td>delmartian</td>\n",
       "      <td>1</td>\n",
       "      <td>1</td>\n",
       "      <td>5</td>\n",
       "      <td>1303862400</td>\n",
       "      <td>Good Quality Dog Food</td>\n",
       "      <td>I have bought several of the Vitality canned d...</td>\n",
       "    </tr>\n",
       "    <tr>\n",
       "      <th>1</th>\n",
       "      <td>2</td>\n",
       "      <td>B00813GRG4</td>\n",
       "      <td>A1D87F6ZCVE5NK</td>\n",
       "      <td>dll pa</td>\n",
       "      <td>0</td>\n",
       "      <td>0</td>\n",
       "      <td>1</td>\n",
       "      <td>1346976000</td>\n",
       "      <td>Not as Advertised</td>\n",
       "      <td>Product arrived labeled as Jumbo Salted Peanut...</td>\n",
       "    </tr>\n",
       "    <tr>\n",
       "      <th>2</th>\n",
       "      <td>3</td>\n",
       "      <td>B000LQOCH0</td>\n",
       "      <td>ABXLMWJIXXAIN</td>\n",
       "      <td>Natalia Corres \"Natalia Corres\"</td>\n",
       "      <td>1</td>\n",
       "      <td>1</td>\n",
       "      <td>4</td>\n",
       "      <td>1219017600</td>\n",
       "      <td>\"Delight\" says it all</td>\n",
       "      <td>This is a confection that has been around a fe...</td>\n",
       "    </tr>\n",
       "    <tr>\n",
       "      <th>3</th>\n",
       "      <td>4</td>\n",
       "      <td>B000UA0QIQ</td>\n",
       "      <td>A395BORC6FGVXV</td>\n",
       "      <td>Karl</td>\n",
       "      <td>3</td>\n",
       "      <td>3</td>\n",
       "      <td>2</td>\n",
       "      <td>1307923200</td>\n",
       "      <td>Cough Medicine</td>\n",
       "      <td>If you are looking for the secret ingredient i...</td>\n",
       "    </tr>\n",
       "    <tr>\n",
       "      <th>4</th>\n",
       "      <td>5</td>\n",
       "      <td>B006K2ZZ7K</td>\n",
       "      <td>A1UQRSCLF8GW1T</td>\n",
       "      <td>Michael D. Bigham \"M. Wassir\"</td>\n",
       "      <td>0</td>\n",
       "      <td>0</td>\n",
       "      <td>5</td>\n",
       "      <td>1350777600</td>\n",
       "      <td>Great taffy</td>\n",
       "      <td>Great taffy at a great price.  There was a wid...</td>\n",
       "    </tr>\n",
       "  </tbody>\n",
       "</table>\n",
       "</div>"
      ],
      "text/plain": [
       "   Id   ProductId          UserId                      ProfileName  \\\n",
       "0   1  B001E4KFG0  A3SGXH7AUHU8GW                       delmartian   \n",
       "1   2  B00813GRG4  A1D87F6ZCVE5NK                           dll pa   \n",
       "2   3  B000LQOCH0   ABXLMWJIXXAIN  Natalia Corres \"Natalia Corres\"   \n",
       "3   4  B000UA0QIQ  A395BORC6FGVXV                             Karl   \n",
       "4   5  B006K2ZZ7K  A1UQRSCLF8GW1T    Michael D. Bigham \"M. Wassir\"   \n",
       "\n",
       "   HelpfulnessNumerator  HelpfulnessDenominator  Score        Time  \\\n",
       "0                     1                       1      5  1303862400   \n",
       "1                     0                       0      1  1346976000   \n",
       "2                     1                       1      4  1219017600   \n",
       "3                     3                       3      2  1307923200   \n",
       "4                     0                       0      5  1350777600   \n",
       "\n",
       "                 Summary                                               Text  \n",
       "0  Good Quality Dog Food  I have bought several of the Vitality canned d...  \n",
       "1      Not as Advertised  Product arrived labeled as Jumbo Salted Peanut...  \n",
       "2  \"Delight\" says it all  This is a confection that has been around a fe...  \n",
       "3         Cough Medicine  If you are looking for the secret ingredient i...  \n",
       "4            Great taffy  Great taffy at a great price.  There was a wid...  "
      ]
     },
     "execution_count": 4,
     "metadata": {},
     "output_type": "execute_result"
    }
   ],
   "source": [
    "reviews.head()"
   ]
  },
  {
   "cell_type": "markdown",
   "metadata": {},
   "source": [
    "### Оставим только столбцы Score и Text."
   ]
  },
  {
   "cell_type": "code",
   "execution_count": 5,
   "metadata": {},
   "outputs": [],
   "source": [
    "reviews = reviews[['Score', 'Text']]"
   ]
  },
  {
   "cell_type": "code",
   "execution_count": 6,
   "metadata": {},
   "outputs": [
    {
     "data": {
      "text/html": [
       "<div>\n",
       "<style scoped>\n",
       "    .dataframe tbody tr th:only-of-type {\n",
       "        vertical-align: middle;\n",
       "    }\n",
       "\n",
       "    .dataframe tbody tr th {\n",
       "        vertical-align: top;\n",
       "    }\n",
       "\n",
       "    .dataframe thead th {\n",
       "        text-align: right;\n",
       "    }\n",
       "</style>\n",
       "<table border=\"1\" class=\"dataframe\">\n",
       "  <thead>\n",
       "    <tr style=\"text-align: right;\">\n",
       "      <th></th>\n",
       "      <th>Score</th>\n",
       "      <th>Text</th>\n",
       "    </tr>\n",
       "  </thead>\n",
       "  <tbody>\n",
       "    <tr>\n",
       "      <th>0</th>\n",
       "      <td>5</td>\n",
       "      <td>I have bought several of the Vitality canned d...</td>\n",
       "    </tr>\n",
       "    <tr>\n",
       "      <th>1</th>\n",
       "      <td>1</td>\n",
       "      <td>Product arrived labeled as Jumbo Salted Peanut...</td>\n",
       "    </tr>\n",
       "    <tr>\n",
       "      <th>2</th>\n",
       "      <td>4</td>\n",
       "      <td>This is a confection that has been around a fe...</td>\n",
       "    </tr>\n",
       "    <tr>\n",
       "      <th>3</th>\n",
       "      <td>2</td>\n",
       "      <td>If you are looking for the secret ingredient i...</td>\n",
       "    </tr>\n",
       "    <tr>\n",
       "      <th>4</th>\n",
       "      <td>5</td>\n",
       "      <td>Great taffy at a great price.  There was a wid...</td>\n",
       "    </tr>\n",
       "  </tbody>\n",
       "</table>\n",
       "</div>"
      ],
      "text/plain": [
       "   Score                                               Text\n",
       "0      5  I have bought several of the Vitality canned d...\n",
       "1      1  Product arrived labeled as Jumbo Salted Peanut...\n",
       "2      4  This is a confection that has been around a fe...\n",
       "3      2  If you are looking for the secret ingredient i...\n",
       "4      5  Great taffy at a great price.  There was a wid..."
      ]
     },
     "execution_count": 6,
     "metadata": {},
     "output_type": "execute_result"
    }
   ],
   "source": [
    "reviews.head()"
   ]
  },
  {
   "cell_type": "code",
   "execution_count": 7,
   "metadata": {},
   "outputs": [
    {
     "data": {
      "text/plain": [
       "(568454, 2)"
      ]
     },
     "execution_count": 7,
     "metadata": {},
     "output_type": "execute_result"
    }
   ],
   "source": [
    "reviews.shape"
   ]
  },
  {
   "cell_type": "markdown",
   "metadata": {},
   "source": [
    "### Возьмем из нашей выборки все отзывы, при этом отсеим стоп слова с помощью библиотеки nltk."
   ]
  },
  {
   "cell_type": "code",
   "execution_count": 8,
   "metadata": {},
   "outputs": [],
   "source": [
    "from sklearn.feature_extraction import text"
   ]
  },
  {
   "cell_type": "code",
   "execution_count": 9,
   "metadata": {},
   "outputs": [],
   "source": [
    "amazon_text = reviews['Text'].values"
   ]
  },
  {
   "cell_type": "markdown",
   "metadata": {},
   "source": [
    "Избавимся от всех символов, кроме букв английского алфавита и цифр."
   ]
  },
  {
   "cell_type": "code",
   "execution_count": 10,
   "metadata": {},
   "outputs": [],
   "source": [
    "for T in range(len(amazon_text)):\n",
    "    amazon_text[T] = re.sub(r\"[^A-Za-z0-9]\", \" \", amazon_text[T])\n",
    "    amazon_text[T] = ' '.join([word for word in amazon_text[T].lower().split() if word not in set(text.ENGLISH_STOP_WORDS)])"
   ]
  },
  {
   "cell_type": "markdown",
   "metadata": {},
   "source": [
    "### Попробуем использовать оба подхода нормализации слов: стемминг и лемматизацию. Позже сравним результаты."
   ]
  },
  {
   "cell_type": "code",
   "execution_count": 11,
   "metadata": {},
   "outputs": [],
   "source": [
    "from nltk.stem.lancaster import LancasterStemmer\n",
    "from nltk.stem import WordNetLemmatizer"
   ]
  },
  {
   "cell_type": "code",
   "execution_count": 12,
   "metadata": {},
   "outputs": [],
   "source": [
    "st = LancasterStemmer()\n",
    "wordnet_lemmatizer = WordNetLemmatizer()"
   ]
  },
  {
   "cell_type": "code",
   "execution_count": 13,
   "metadata": {},
   "outputs": [],
   "source": [
    "Stemmed_amazon_text = []\n",
    "Lemmatized_amazon_text = []"
   ]
  },
  {
   "cell_type": "code",
   "execution_count": 14,
   "metadata": {},
   "outputs": [
    {
     "name": "stdout",
     "output_type": "stream",
     "text": [
      "Wall time: 10min 42s\n"
     ]
    }
   ],
   "source": [
    "%%time\n",
    "\n",
    "for i in range(len(amazon_text)):\n",
    "    Stemmed_text = []\n",
    "    for j in amazon_text[i].split():\n",
    "        try:\n",
    "            Stemmed_text.append(st.stem(j))\n",
    "        except:\n",
    "            Stemmed_text.append[j]\n",
    "    Stemmed_text = ' '.join(Stemmed_text)\n",
    "    Stemmed_amazon_text.append(Stemmed_text)"
   ]
  },
  {
   "cell_type": "code",
   "execution_count": 15,
   "metadata": {},
   "outputs": [
    {
     "name": "stdout",
     "output_type": "stream",
     "text": [
      "Wall time: 2min 38s\n"
     ]
    }
   ],
   "source": [
    "%%time \n",
    "\n",
    "for i in range(len(amazon_text)):\n",
    "    Lemmatized_text = []\n",
    "    for j in amazon_text[i].split():\n",
    "        try:\n",
    "            Lemmatized_text.append(wordnet_lemmatizer.lemmatize(j))\n",
    "        except:\n",
    "            Lemmatized_text.append[j]\n",
    "    Lemmatized_text = ' '.join(Lemmatized_text)\n",
    "    Lemmatized_amazon_text.append(Lemmatized_text)"
   ]
  },
  {
   "cell_type": "markdown",
   "metadata": {},
   "source": [
    "### Сохраним датасет."
   ]
  },
  {
   "cell_type": "code",
   "execution_count": 16,
   "metadata": {},
   "outputs": [],
   "source": [
    "reviews['Stemmed'] = Stemmed_amazon_text\n",
    "reviews['Lemmatized'] = Lemmatized_amazon_text\n",
    "reviews['Text'] = amazon_text"
   ]
  },
  {
   "cell_type": "code",
   "execution_count": 17,
   "metadata": {},
   "outputs": [],
   "source": [
    "reviews.to_csv('preprocessed_reviews.csv', sep=',', index=None, header=True)"
   ]
  },
  {
   "cell_type": "code",
   "execution_count": 18,
   "metadata": {},
   "outputs": [
    {
     "data": {
      "text/html": [
       "<div>\n",
       "<style scoped>\n",
       "    .dataframe tbody tr th:only-of-type {\n",
       "        vertical-align: middle;\n",
       "    }\n",
       "\n",
       "    .dataframe tbody tr th {\n",
       "        vertical-align: top;\n",
       "    }\n",
       "\n",
       "    .dataframe thead th {\n",
       "        text-align: right;\n",
       "    }\n",
       "</style>\n",
       "<table border=\"1\" class=\"dataframe\">\n",
       "  <thead>\n",
       "    <tr style=\"text-align: right;\">\n",
       "      <th></th>\n",
       "      <th>Score</th>\n",
       "      <th>Text</th>\n",
       "      <th>Stemmed</th>\n",
       "      <th>Lemmatized</th>\n",
       "    </tr>\n",
       "  </thead>\n",
       "  <tbody>\n",
       "    <tr>\n",
       "      <th>0</th>\n",
       "      <td>5</td>\n",
       "      <td>bought vitality canned dog food products good ...</td>\n",
       "      <td>bought vit can dog food produc good qual produ...</td>\n",
       "      <td>bought vitality canned dog food product good q...</td>\n",
       "    </tr>\n",
       "    <tr>\n",
       "      <th>1</th>\n",
       "      <td>1</td>\n",
       "      <td>product arrived labeled jumbo salted peanuts p...</td>\n",
       "      <td>produc ar label jumbo salt peanut peanut act s...</td>\n",
       "      <td>product arrived labeled jumbo salted peanut pe...</td>\n",
       "    </tr>\n",
       "    <tr>\n",
       "      <th>2</th>\n",
       "      <td>4</td>\n",
       "      <td>confection centuries light pillowy citrus gela...</td>\n",
       "      <td>confect century light pillowy citr gelatin nut...</td>\n",
       "      <td>confection century light pillowy citrus gelati...</td>\n",
       "    </tr>\n",
       "    <tr>\n",
       "      <th>3</th>\n",
       "      <td>2</td>\n",
       "      <td>looking secret ingredient robitussin believe g...</td>\n",
       "      <td>look secret ingredy robitussin believ got addi...</td>\n",
       "      <td>looking secret ingredient robitussin believe g...</td>\n",
       "    </tr>\n",
       "    <tr>\n",
       "      <th>4</th>\n",
       "      <td>5</td>\n",
       "      <td>great taffy great price wide assortment yummy ...</td>\n",
       "      <td>gre taffy gre pric wid assort yummy taffy deli...</td>\n",
       "      <td>great taffy great price wide assortment yummy ...</td>\n",
       "    </tr>\n",
       "  </tbody>\n",
       "</table>\n",
       "</div>"
      ],
      "text/plain": [
       "   Score                                               Text  \\\n",
       "0      5  bought vitality canned dog food products good ...   \n",
       "1      1  product arrived labeled jumbo salted peanuts p...   \n",
       "2      4  confection centuries light pillowy citrus gela...   \n",
       "3      2  looking secret ingredient robitussin believe g...   \n",
       "4      5  great taffy great price wide assortment yummy ...   \n",
       "\n",
       "                                             Stemmed  \\\n",
       "0  bought vit can dog food produc good qual produ...   \n",
       "1  produc ar label jumbo salt peanut peanut act s...   \n",
       "2  confect century light pillowy citr gelatin nut...   \n",
       "3  look secret ingredy robitussin believ got addi...   \n",
       "4  gre taffy gre pric wid assort yummy taffy deli...   \n",
       "\n",
       "                                          Lemmatized  \n",
       "0  bought vitality canned dog food product good q...  \n",
       "1  product arrived labeled jumbo salted peanut pe...  \n",
       "2  confection century light pillowy citrus gelati...  \n",
       "3  looking secret ingredient robitussin believe g...  \n",
       "4  great taffy great price wide assortment yummy ...  "
      ]
     },
     "execution_count": 18,
     "metadata": {},
     "output_type": "execute_result"
    }
   ],
   "source": [
    "reviews.head()"
   ]
  },
  {
   "cell_type": "markdown",
   "metadata": {},
   "source": [
    "### Изучим выборку подробнее. Будем исследовать лемматизированные тексты. После этого проделаем аналогичные действия для стеммированных текстов."
   ]
  },
  {
   "cell_type": "code",
   "execution_count": 19,
   "metadata": {},
   "outputs": [
    {
     "data": {
      "text/html": [
       "<div>\n",
       "<style scoped>\n",
       "    .dataframe tbody tr th:only-of-type {\n",
       "        vertical-align: middle;\n",
       "    }\n",
       "\n",
       "    .dataframe tbody tr th {\n",
       "        vertical-align: top;\n",
       "    }\n",
       "\n",
       "    .dataframe thead th {\n",
       "        text-align: right;\n",
       "    }\n",
       "</style>\n",
       "<table border=\"1\" class=\"dataframe\">\n",
       "  <thead>\n",
       "    <tr style=\"text-align: right;\">\n",
       "      <th></th>\n",
       "      <th>Score</th>\n",
       "    </tr>\n",
       "  </thead>\n",
       "  <tbody>\n",
       "    <tr>\n",
       "      <th>count</th>\n",
       "      <td>568454.000000</td>\n",
       "    </tr>\n",
       "    <tr>\n",
       "      <th>mean</th>\n",
       "      <td>4.183199</td>\n",
       "    </tr>\n",
       "    <tr>\n",
       "      <th>std</th>\n",
       "      <td>1.310436</td>\n",
       "    </tr>\n",
       "    <tr>\n",
       "      <th>min</th>\n",
       "      <td>1.000000</td>\n",
       "    </tr>\n",
       "    <tr>\n",
       "      <th>25%</th>\n",
       "      <td>4.000000</td>\n",
       "    </tr>\n",
       "    <tr>\n",
       "      <th>50%</th>\n",
       "      <td>5.000000</td>\n",
       "    </tr>\n",
       "    <tr>\n",
       "      <th>75%</th>\n",
       "      <td>5.000000</td>\n",
       "    </tr>\n",
       "    <tr>\n",
       "      <th>max</th>\n",
       "      <td>5.000000</td>\n",
       "    </tr>\n",
       "  </tbody>\n",
       "</table>\n",
       "</div>"
      ],
      "text/plain": [
       "               Score\n",
       "count  568454.000000\n",
       "mean        4.183199\n",
       "std         1.310436\n",
       "min         1.000000\n",
       "25%         4.000000\n",
       "50%         5.000000\n",
       "75%         5.000000\n",
       "max         5.000000"
      ]
     },
     "execution_count": 19,
     "metadata": {},
     "output_type": "execute_result"
    }
   ],
   "source": [
    "reviews.describe()"
   ]
  },
  {
   "cell_type": "code",
   "execution_count": 20,
   "metadata": {},
   "outputs": [
    {
     "data": {
      "text/plain": [
       "5    363122\n",
       "4     80655\n",
       "1     52268\n",
       "3     42640\n",
       "2     29769\n",
       "Name: Score, dtype: int64"
      ]
     },
     "execution_count": 20,
     "metadata": {},
     "output_type": "execute_result"
    }
   ],
   "source": [
    "reviews['Score'].value_counts()"
   ]
  },
  {
   "cell_type": "markdown",
   "metadata": {},
   "source": [
    "### Доли оценок продуктов в выборке."
   ]
  },
  {
   "cell_type": "code",
   "execution_count": 21,
   "metadata": {},
   "outputs": [
    {
     "name": "stdout",
     "output_type": "stream",
     "text": [
      "Доля объектов с рейтингом 1 составляет 9.19476334057%\n",
      "Доля объектов с рейтингом 2 составляет 5.2368353464%\n",
      "Доля объектов с рейтингом 3 составляет 7.50104669859%\n",
      "Доля объектов с рейтингом 4 составляет 14.188483149%\n",
      "Доля объектов с рейтингом 5 составляет 63.8788714654%\n"
     ]
    }
   ],
   "source": [
    "for i in range(1, 6):\n",
    "    print('Доля объектов с рейтингом {} составляет {}%'.format(i, float(reviews['Score'].value_counts()[i]) / len(reviews) * 100))"
   ]
  },
  {
   "cell_type": "code",
   "execution_count": 22,
   "metadata": {},
   "outputs": [
    {
     "data": {
      "image/png": "[encoded data removed]",
      "text/plain": [
       "<matplotlib.figure.Figure at 0x4c20be80>"
      ]
     },
     "metadata": {},
     "output_type": "display_data"
    }
   ],
   "source": [
    "sns.countplot(x='Score', data=reviews, palette='Greens_d')\n",
    "plt.show()"
   ]
  },
  {
   "cell_type": "markdown",
   "metadata": {},
   "source": [
    "### Выборка не сбалансированна. Баланс классов сильно смещен в сторону класса с оценкой продукта, равной 5. Нужно построить модель, доля правильных ответов которой будет превышать долю наибольшего класса в выборке, т.е. ожидаемая точность модели не должна быть меньше 63%."
   ]
  },
  {
   "cell_type": "markdown",
   "metadata": {},
   "source": [
    "### Посмотрим на самые популярные слова в выборке"
   ]
  },
  {
   "cell_type": "code",
   "execution_count": 23,
   "metadata": {},
   "outputs": [],
   "source": [
    "def get_popular_words(data):\n",
    "    all_data = []\n",
    "    for i in range(len(data)):\n",
    "        all_data.extend(data[i].split())\n",
    "    counter = Counter(all_data)\n",
    "    return counter.most_common()"
   ]
  },
  {
   "cell_type": "code",
   "execution_count": 24,
   "metadata": {},
   "outputs": [],
   "source": [
    "lemm_pop_words = get_popular_words(Lemmatized_amazon_text)"
   ]
  },
  {
   "cell_type": "code",
   "execution_count": 25,
   "metadata": {
    "scrolled": false
   },
   "outputs": [
    {
     "data": {
      "text/plain": [
       "[(u'br', 647116),\n",
       " (u's', 303385),\n",
       " (u't', 301972),\n",
       " (u'like', 267989),\n",
       " (u'taste', 218478),\n",
       " (u'good', 202411),\n",
       " (u'product', 200192),\n",
       " ('flavor', 187632),\n",
       " (u'coffee', 176327),\n",
       " (u'just', 172972),\n",
       " ('great', 167191),\n",
       " (u'love', 164014),\n",
       " (u'tea', 153862),\n",
       " (u'food', 153384),\n",
       " (u'make', 107891),\n",
       " (u'dog', 107704),\n",
       " (u'amazon', 106608),\n",
       " (u'time', 101639),\n",
       " (u'really', 101076),\n",
       " (u'don', 91874)]"
      ]
     },
     "execution_count": 25,
     "metadata": {},
     "output_type": "execute_result"
    }
   ],
   "source": [
    "lemm_pop_words[:20]"
   ]
  },
  {
   "cell_type": "markdown",
   "metadata": {},
   "source": [
    "### В связи с тем, что наша выборка довольно большая и в связи с ограниченностью вычислительных ресурсов, мы не будем использовать кросс-валидацию для оценки качества моделей и не будем выполнять полный подбор параметров для построения более качественной модели. Разобьём выборку на обучающую, тестовую и проверочную."
   ]
  },
  {
   "cell_type": "code",
   "execution_count": 26,
   "metadata": {},
   "outputs": [],
   "source": [
    "X_train, X_valid, Y_train, Y_valid = train_test_split(reviews['Lemmatized'], reviews['Score'],\n",
    "                                                      test_size=0.2, random_state=1, stratify=reviews['Score'], shuffle=True)\n",
    "X_train, X_test, Y_train, Y_test = train_test_split(X_train, Y_train,\n",
    "                                                    test_size=0.2, random_state=1, stratify=Y_train, shuffle=True)"
   ]
  },
  {
   "cell_type": "markdown",
   "metadata": {},
   "source": [
    "### Построение моделей"
   ]
  },
  {
   "cell_type": "code",
   "execution_count": 27,
   "metadata": {},
   "outputs": [
    {
     "name": "stderr",
     "output_type": "stream",
     "text": [
      "C:\\Users\\Eugeniy\\Anaconda2\\lib\\site-packages\\sklearn\\cross_validation.py:41: DeprecationWarning: This module was deprecated in version 0.18 in favor of the model_selection module into which all the refactored classes and functions are moved. Also note that the interface of the new CV iterators are different from that of this module. This module will be removed in 0.20.\n",
      "  \"This module will be removed in 0.20.\", DeprecationWarning)\n"
     ]
    }
   ],
   "source": [
    "from sklearn.svm import LinearSVC\n",
    "from sklearn.linear_model import LogisticRegression\n",
    "from sklearn.cross_validation import cross_val_score\n",
    "from sklearn.pipeline import Pipeline"
   ]
  },
  {
   "cell_type": "code",
   "execution_count": 38,
   "metadata": {},
   "outputs": [],
   "source": [
    "predictions = []"
   ]
  },
  {
   "cell_type": "code",
   "execution_count": 39,
   "metadata": {},
   "outputs": [
    {
     "name": "stdout",
     "output_type": "stream",
     "text": [
      "Количество признаков при min_df=1: 91623\n",
      "Количество признаков при min_df=2: 51213\n",
      "Wall time: 52min 49s\n"
     ]
    }
   ],
   "source": [
    "%%time\n",
    "\n",
    "c = 0\n",
    "for model in [LogisticRegression, LinearSVC]:\n",
    "    for vectorizer in [CountVectorizer, TfidfVectorizer]:\n",
    "        for m_df in [1, 2]:\n",
    "            model_vect = vectorizer(min_df=m_df)\n",
    "            X = model_vect.fit_transform(X_train)\n",
    "            X_t = model_vect.transform(X_test)\n",
    "            X_v = model_vect.transform(X_valid)\n",
    "            if c < 2:\n",
    "                print('Количество признаков при min_df={}: {}'.format(m_df, X.shape[1]))\n",
    "                c += 1\n",
    "            linear_model = model()\n",
    "            linear_model.fit(X, Y_train)\n",
    "            predictions.append(('{} + {} + {}'.format(linear_model.__class__.__name__, model_vect.__class__.__name__,\n",
    "                                            m_df), linear_model.predict(X_t), linear_model.predict(X_v), linear_model.coef_))"
   ]
  },
  {
   "cell_type": "markdown",
   "metadata": {},
   "source": [
    "### Анализ полученных результатов предсказаний."
   ]
  },
  {
   "cell_type": "code",
   "execution_count": 40,
   "metadata": {},
   "outputs": [],
   "source": [
    "res_df = pd.DataFrame(predictions, columns=['model', 'test_predictions', 'valid_predictions', 'model_coeffs'])"
   ]
  },
  {
   "cell_type": "code",
   "execution_count": 41,
   "metadata": {},
   "outputs": [
    {
     "data": {
      "text/html": [
       "<div>\n",
       "<style scoped>\n",
       "    .dataframe tbody tr th:only-of-type {\n",
       "        vertical-align: middle;\n",
       "    }\n",
       "\n",
       "    .dataframe tbody tr th {\n",
       "        vertical-align: top;\n",
       "    }\n",
       "\n",
       "    .dataframe thead th {\n",
       "        text-align: right;\n",
       "    }\n",
       "</style>\n",
       "<table border=\"1\" class=\"dataframe\">\n",
       "  <thead>\n",
       "    <tr style=\"text-align: right;\">\n",
       "      <th></th>\n",
       "      <th>model</th>\n",
       "      <th>test_predictions</th>\n",
       "      <th>valid_predictions</th>\n",
       "      <th>model_coeffs</th>\n",
       "    </tr>\n",
       "  </thead>\n",
       "  <tbody>\n",
       "    <tr>\n",
       "      <th>0</th>\n",
       "      <td>LogisticRegression + CountVectorizer + 1</td>\n",
       "      <td>[1, 3, 5, 5, 5, 5, 4, 5, 5, 5, 5, 5, 1, 3, 5, ...</td>\n",
       "      <td>[1, 4, 5, 5, 3, 5, 5, 4, 5, 4, 5, 5, 4, 5, 5, ...</td>\n",
       "      <td>[[0.32371485845419845, 0.1416539342310432, -0....</td>\n",
       "    </tr>\n",
       "    <tr>\n",
       "      <th>1</th>\n",
       "      <td>LogisticRegression + CountVectorizer + 2</td>\n",
       "      <td>[1, 3, 5, 5, 5, 5, 4, 5, 5, 5, 5, 5, 1, 3, 5, ...</td>\n",
       "      <td>[1, 4, 5, 5, 3, 5, 5, 4, 5, 4, 5, 5, 4, 5, 5, ...</td>\n",
       "      <td>[[0.3222382369269091, 0.14380228287673522, -0....</td>\n",
       "    </tr>\n",
       "    <tr>\n",
       "      <th>2</th>\n",
       "      <td>LogisticRegression + TfidfVectorizer + 1</td>\n",
       "      <td>[1, 3, 5, 5, 5, 5, 4, 5, 5, 5, 5, 5, 1, 3, 5, ...</td>\n",
       "      <td>[1, 5, 5, 5, 3, 5, 5, 5, 5, 5, 5, 5, 4, 5, 5, ...</td>\n",
       "      <td>[[1.6282019737732405, -0.041612706611216084, -...</td>\n",
       "    </tr>\n",
       "    <tr>\n",
       "      <th>3</th>\n",
       "      <td>LogisticRegression + TfidfVectorizer + 2</td>\n",
       "      <td>[1, 3, 5, 5, 5, 5, 4, 5, 5, 5, 5, 5, 1, 3, 5, ...</td>\n",
       "      <td>[1, 5, 5, 5, 3, 5, 5, 5, 5, 5, 5, 5, 4, 5, 5, ...</td>\n",
       "      <td>[[1.619991034658271, -0.05399094747511653, -0....</td>\n",
       "    </tr>\n",
       "    <tr>\n",
       "      <th>4</th>\n",
       "      <td>LinearSVC + CountVectorizer + 1</td>\n",
       "      <td>[1, 3, 5, 5, 5, 5, 4, 5, 5, 5, 5, 5, 1, 3, 5, ...</td>\n",
       "      <td>[1, 4, 5, 5, 3, 5, 5, 4, 5, 2, 5, 5, 4, 5, 5, ...</td>\n",
       "      <td>[[0.15426353522605796, 0.06574203469658318, -0...</td>\n",
       "    </tr>\n",
       "    <tr>\n",
       "      <th>5</th>\n",
       "      <td>LinearSVC + CountVectorizer + 2</td>\n",
       "      <td>[1, 3, 5, 5, 5, 5, 4, 5, 5, 5, 5, 5, 1, 3, 5, ...</td>\n",
       "      <td>[1, 4, 5, 5, 3, 5, 5, 4, 5, 2, 5, 5, 4, 5, 5, ...</td>\n",
       "      <td>[[0.14222375912684154, 0.09077960863263419, -0...</td>\n",
       "    </tr>\n",
       "    <tr>\n",
       "      <th>6</th>\n",
       "      <td>LinearSVC + TfidfVectorizer + 1</td>\n",
       "      <td>[1, 3, 5, 5, 5, 5, 4, 5, 5, 5, 5, 5, 1, 3, 5, ...</td>\n",
       "      <td>[1, 5, 5, 5, 3, 5, 5, 5, 5, 5, 5, 5, 4, 5, 5, ...</td>\n",
       "      <td>[[0.5504454678848048, 0.04489240922189044, -0....</td>\n",
       "    </tr>\n",
       "    <tr>\n",
       "      <th>7</th>\n",
       "      <td>LinearSVC + TfidfVectorizer + 2</td>\n",
       "      <td>[1, 3, 5, 5, 5, 5, 4, 5, 5, 5, 5, 5, 1, 3, 5, ...</td>\n",
       "      <td>[1, 5, 5, 5, 3, 5, 5, 5, 5, 2, 5, 5, 4, 5, 5, ...</td>\n",
       "      <td>[[0.545705929491729, 0.03999785055110664, -0.4...</td>\n",
       "    </tr>\n",
       "  </tbody>\n",
       "</table>\n",
       "</div>"
      ],
      "text/plain": [
       "                                      model  \\\n",
       "0  LogisticRegression + CountVectorizer + 1   \n",
       "1  LogisticRegression + CountVectorizer + 2   \n",
       "2  LogisticRegression + TfidfVectorizer + 1   \n",
       "3  LogisticRegression + TfidfVectorizer + 2   \n",
       "4           LinearSVC + CountVectorizer + 1   \n",
       "5           LinearSVC + CountVectorizer + 2   \n",
       "6           LinearSVC + TfidfVectorizer + 1   \n",
       "7           LinearSVC + TfidfVectorizer + 2   \n",
       "\n",
       "                                    test_predictions  \\\n",
       "0  [1, 3, 5, 5, 5, 5, 4, 5, 5, 5, 5, 5, 1, 3, 5, ...   \n",
       "1  [1, 3, 5, 5, 5, 5, 4, 5, 5, 5, 5, 5, 1, 3, 5, ...   \n",
       "2  [1, 3, 5, 5, 5, 5, 4, 5, 5, 5, 5, 5, 1, 3, 5, ...   \n",
       "3  [1, 3, 5, 5, 5, 5, 4, 5, 5, 5, 5, 5, 1, 3, 5, ...   \n",
       "4  [1, 3, 5, 5, 5, 5, 4, 5, 5, 5, 5, 5, 1, 3, 5, ...   \n",
       "5  [1, 3, 5, 5, 5, 5, 4, 5, 5, 5, 5, 5, 1, 3, 5, ...   \n",
       "6  [1, 3, 5, 5, 5, 5, 4, 5, 5, 5, 5, 5, 1, 3, 5, ...   \n",
       "7  [1, 3, 5, 5, 5, 5, 4, 5, 5, 5, 5, 5, 1, 3, 5, ...   \n",
       "\n",
       "                                   valid_predictions  \\\n",
       "0  [1, 4, 5, 5, 3, 5, 5, 4, 5, 4, 5, 5, 4, 5, 5, ...   \n",
       "1  [1, 4, 5, 5, 3, 5, 5, 4, 5, 4, 5, 5, 4, 5, 5, ...   \n",
       "2  [1, 5, 5, 5, 3, 5, 5, 5, 5, 5, 5, 5, 4, 5, 5, ...   \n",
       "3  [1, 5, 5, 5, 3, 5, 5, 5, 5, 5, 5, 5, 4, 5, 5, ...   \n",
       "4  [1, 4, 5, 5, 3, 5, 5, 4, 5, 2, 5, 5, 4, 5, 5, ...   \n",
       "5  [1, 4, 5, 5, 3, 5, 5, 4, 5, 2, 5, 5, 4, 5, 5, ...   \n",
       "6  [1, 5, 5, 5, 3, 5, 5, 5, 5, 5, 5, 5, 4, 5, 5, ...   \n",
       "7  [1, 5, 5, 5, 3, 5, 5, 5, 5, 2, 5, 5, 4, 5, 5, ...   \n",
       "\n",
       "                                        model_coeffs  \n",
       "0  [[0.32371485845419845, 0.1416539342310432, -0....  \n",
       "1  [[0.3222382369269091, 0.14380228287673522, -0....  \n",
       "2  [[1.6282019737732405, -0.041612706611216084, -...  \n",
       "3  [[1.619991034658271, -0.05399094747511653, -0....  \n",
       "4  [[0.15426353522605796, 0.06574203469658318, -0...  \n",
       "5  [[0.14222375912684154, 0.09077960863263419, -0...  \n",
       "6  [[0.5504454678848048, 0.04489240922189044, -0....  \n",
       "7  [[0.545705929491729, 0.03999785055110664, -0.4...  "
      ]
     },
     "execution_count": 41,
     "metadata": {},
     "output_type": "execute_result"
    }
   ],
   "source": [
    "res_df"
   ]
  },
  {
   "cell_type": "code",
   "execution_count": 42,
   "metadata": {},
   "outputs": [],
   "source": [
    "target_names = ['class 1', 'class 2', 'class 3', 'class 4', 'class 5']"
   ]
  },
  {
   "cell_type": "code",
   "execution_count": 43,
   "metadata": {},
   "outputs": [],
   "source": [
    "res_df['test_acc'] = [metrics.accuracy_score(Y_test, pred) for pred in res_df.test_predictions]\n",
    "res_df['valid_acc'] = [metrics.accuracy_score(Y_valid, pred) for pred in res_df.valid_predictions]\n",
    "res_df['test_report'] = [metrics.classification_report(Y_test, pred, target_names=target_names) for pred in res_df.test_predictions]\n",
    "res_df['valid_report'] = [metrics.classification_report(Y_valid, pred, target_names=target_names) for pred in res_df.valid_predictions]"
   ]
  },
  {
   "cell_type": "code",
   "execution_count": 44,
   "metadata": {},
   "outputs": [],
   "source": [
    "res_df.sort_values(by='valid_acc', ascending=False, inplace=True)"
   ]
  },
  {
   "cell_type": "code",
   "execution_count": 45,
   "metadata": {},
   "outputs": [
    {
     "data": {
      "text/html": [
       "<div>\n",
       "<style scoped>\n",
       "    .dataframe tbody tr th:only-of-type {\n",
       "        vertical-align: middle;\n",
       "    }\n",
       "\n",
       "    .dataframe tbody tr th {\n",
       "        vertical-align: top;\n",
       "    }\n",
       "\n",
       "    .dataframe thead th {\n",
       "        text-align: right;\n",
       "    }\n",
       "</style>\n",
       "<table border=\"1\" class=\"dataframe\">\n",
       "  <thead>\n",
       "    <tr style=\"text-align: right;\">\n",
       "      <th></th>\n",
       "      <th>model</th>\n",
       "      <th>test_predictions</th>\n",
       "      <th>valid_predictions</th>\n",
       "      <th>model_coeffs</th>\n",
       "      <th>test_acc</th>\n",
       "      <th>valid_acc</th>\n",
       "      <th>test_report</th>\n",
       "      <th>valid_report</th>\n",
       "    </tr>\n",
       "  </thead>\n",
       "  <tbody>\n",
       "    <tr>\n",
       "      <th>6</th>\n",
       "      <td>LinearSVC + TfidfVectorizer + 1</td>\n",
       "      <td>[1, 3, 5, 5, 5, 5, 4, 5, 5, 5, 5, 5, 1, 3, 5, ...</td>\n",
       "      <td>[1, 5, 5, 5, 3, 5, 5, 5, 5, 5, 5, 5, 4, 5, 5, ...</td>\n",
       "      <td>[[0.5504454678848048, 0.04489240922189044, -0....</td>\n",
       "      <td>0.752103</td>\n",
       "      <td>0.753490</td>\n",
       "      <td>precision    recall  f1-score   s...</td>\n",
       "      <td>precision    recall  f1-score   s...</td>\n",
       "    </tr>\n",
       "    <tr>\n",
       "      <th>7</th>\n",
       "      <td>LinearSVC + TfidfVectorizer + 2</td>\n",
       "      <td>[1, 3, 5, 5, 5, 5, 4, 5, 5, 5, 5, 5, 1, 3, 5, ...</td>\n",
       "      <td>[1, 5, 5, 5, 3, 5, 5, 5, 5, 2, 5, 5, 4, 5, 5, ...</td>\n",
       "      <td>[[0.545705929491729, 0.03999785055110664, -0.4...</td>\n",
       "      <td>0.750695</td>\n",
       "      <td>0.751977</td>\n",
       "      <td>precision    recall  f1-score   s...</td>\n",
       "      <td>precision    recall  f1-score   s...</td>\n",
       "    </tr>\n",
       "    <tr>\n",
       "      <th>4</th>\n",
       "      <td>LinearSVC + CountVectorizer + 1</td>\n",
       "      <td>[1, 3, 5, 5, 5, 5, 4, 5, 5, 5, 5, 5, 1, 3, 5, ...</td>\n",
       "      <td>[1, 4, 5, 5, 3, 5, 5, 4, 5, 2, 5, 5, 4, 5, 5, ...</td>\n",
       "      <td>[[0.15426353522605796, 0.06574203469658318, -0...</td>\n",
       "      <td>0.748595</td>\n",
       "      <td>0.748687</td>\n",
       "      <td>precision    recall  f1-score   s...</td>\n",
       "      <td>precision    recall  f1-score   s...</td>\n",
       "    </tr>\n",
       "    <tr>\n",
       "      <th>5</th>\n",
       "      <td>LinearSVC + CountVectorizer + 2</td>\n",
       "      <td>[1, 3, 5, 5, 5, 5, 4, 5, 5, 5, 5, 5, 1, 3, 5, ...</td>\n",
       "      <td>[1, 4, 5, 5, 3, 5, 5, 4, 5, 2, 5, 5, 4, 5, 5, ...</td>\n",
       "      <td>[[0.14222375912684154, 0.09077960863263419, -0...</td>\n",
       "      <td>0.746385</td>\n",
       "      <td>0.747095</td>\n",
       "      <td>precision    recall  f1-score   s...</td>\n",
       "      <td>precision    recall  f1-score   s...</td>\n",
       "    </tr>\n",
       "    <tr>\n",
       "      <th>0</th>\n",
       "      <td>LogisticRegression + CountVectorizer + 1</td>\n",
       "      <td>[1, 3, 5, 5, 5, 5, 4, 5, 5, 5, 5, 5, 1, 3, 5, ...</td>\n",
       "      <td>[1, 4, 5, 5, 3, 5, 5, 4, 5, 4, 5, 5, 4, 5, 5, ...</td>\n",
       "      <td>[[0.32371485845419845, 0.1416539342310432, -0....</td>\n",
       "      <td>0.747122</td>\n",
       "      <td>0.746673</td>\n",
       "      <td>precision    recall  f1-score   s...</td>\n",
       "      <td>precision    recall  f1-score   s...</td>\n",
       "    </tr>\n",
       "    <tr>\n",
       "      <th>1</th>\n",
       "      <td>LogisticRegression + CountVectorizer + 2</td>\n",
       "      <td>[1, 3, 5, 5, 5, 5, 4, 5, 5, 5, 5, 5, 1, 3, 5, ...</td>\n",
       "      <td>[1, 4, 5, 5, 3, 5, 5, 4, 5, 4, 5, 5, 4, 5, 5, ...</td>\n",
       "      <td>[[0.3222382369269091, 0.14380228287673522, -0....</td>\n",
       "      <td>0.746473</td>\n",
       "      <td>0.745864</td>\n",
       "      <td>precision    recall  f1-score   s...</td>\n",
       "      <td>precision    recall  f1-score   s...</td>\n",
       "    </tr>\n",
       "    <tr>\n",
       "      <th>2</th>\n",
       "      <td>LogisticRegression + TfidfVectorizer + 1</td>\n",
       "      <td>[1, 3, 5, 5, 5, 5, 4, 5, 5, 5, 5, 5, 1, 3, 5, ...</td>\n",
       "      <td>[1, 5, 5, 5, 3, 5, 5, 5, 5, 5, 5, 5, 4, 5, 5, ...</td>\n",
       "      <td>[[1.6282019737732405, -0.041612706611216084, -...</td>\n",
       "      <td>0.735655</td>\n",
       "      <td>0.737402</td>\n",
       "      <td>precision    recall  f1-score   s...</td>\n",
       "      <td>precision    recall  f1-score   s...</td>\n",
       "    </tr>\n",
       "    <tr>\n",
       "      <th>3</th>\n",
       "      <td>LogisticRegression + TfidfVectorizer + 2</td>\n",
       "      <td>[1, 3, 5, 5, 5, 5, 4, 5, 5, 5, 5, 5, 1, 3, 5, ...</td>\n",
       "      <td>[1, 5, 5, 5, 3, 5, 5, 5, 5, 5, 5, 5, 4, 5, 5, ...</td>\n",
       "      <td>[[1.619991034658271, -0.05399094747511653, -0....</td>\n",
       "      <td>0.735501</td>\n",
       "      <td>0.737385</td>\n",
       "      <td>precision    recall  f1-score   s...</td>\n",
       "      <td>precision    recall  f1-score   s...</td>\n",
       "    </tr>\n",
       "  </tbody>\n",
       "</table>\n",
       "</div>"
      ],
      "text/plain": [
       "                                      model  \\\n",
       "6           LinearSVC + TfidfVectorizer + 1   \n",
       "7           LinearSVC + TfidfVectorizer + 2   \n",
       "4           LinearSVC + CountVectorizer + 1   \n",
       "5           LinearSVC + CountVectorizer + 2   \n",
       "0  LogisticRegression + CountVectorizer + 1   \n",
       "1  LogisticRegression + CountVectorizer + 2   \n",
       "2  LogisticRegression + TfidfVectorizer + 1   \n",
       "3  LogisticRegression + TfidfVectorizer + 2   \n",
       "\n",
       "                                    test_predictions  \\\n",
       "6  [1, 3, 5, 5, 5, 5, 4, 5, 5, 5, 5, 5, 1, 3, 5, ...   \n",
       "7  [1, 3, 5, 5, 5, 5, 4, 5, 5, 5, 5, 5, 1, 3, 5, ...   \n",
       "4  [1, 3, 5, 5, 5, 5, 4, 5, 5, 5, 5, 5, 1, 3, 5, ...   \n",
       "5  [1, 3, 5, 5, 5, 5, 4, 5, 5, 5, 5, 5, 1, 3, 5, ...   \n",
       "0  [1, 3, 5, 5, 5, 5, 4, 5, 5, 5, 5, 5, 1, 3, 5, ...   \n",
       "1  [1, 3, 5, 5, 5, 5, 4, 5, 5, 5, 5, 5, 1, 3, 5, ...   \n",
       "2  [1, 3, 5, 5, 5, 5, 4, 5, 5, 5, 5, 5, 1, 3, 5, ...   \n",
       "3  [1, 3, 5, 5, 5, 5, 4, 5, 5, 5, 5, 5, 1, 3, 5, ...   \n",
       "\n",
       "                                   valid_predictions  \\\n",
       "6  [1, 5, 5, 5, 3, 5, 5, 5, 5, 5, 5, 5, 4, 5, 5, ...   \n",
       "7  [1, 5, 5, 5, 3, 5, 5, 5, 5, 2, 5, 5, 4, 5, 5, ...   \n",
       "4  [1, 4, 5, 5, 3, 5, 5, 4, 5, 2, 5, 5, 4, 5, 5, ...   \n",
       "5  [1, 4, 5, 5, 3, 5, 5, 4, 5, 2, 5, 5, 4, 5, 5, ...   \n",
       "0  [1, 4, 5, 5, 3, 5, 5, 4, 5, 4, 5, 5, 4, 5, 5, ...   \n",
       "1  [1, 4, 5, 5, 3, 5, 5, 4, 5, 4, 5, 5, 4, 5, 5, ...   \n",
       "2  [1, 5, 5, 5, 3, 5, 5, 5, 5, 5, 5, 5, 4, 5, 5, ...   \n",
       "3  [1, 5, 5, 5, 3, 5, 5, 5, 5, 5, 5, 5, 4, 5, 5, ...   \n",
       "\n",
       "                                        model_coeffs  test_acc  valid_acc  \\\n",
       "6  [[0.5504454678848048, 0.04489240922189044, -0....  0.752103   0.753490   \n",
       "7  [[0.545705929491729, 0.03999785055110664, -0.4...  0.750695   0.751977   \n",
       "4  [[0.15426353522605796, 0.06574203469658318, -0...  0.748595   0.748687   \n",
       "5  [[0.14222375912684154, 0.09077960863263419, -0...  0.746385   0.747095   \n",
       "0  [[0.32371485845419845, 0.1416539342310432, -0....  0.747122   0.746673   \n",
       "1  [[0.3222382369269091, 0.14380228287673522, -0....  0.746473   0.745864   \n",
       "2  [[1.6282019737732405, -0.041612706611216084, -...  0.735655   0.737402   \n",
       "3  [[1.619991034658271, -0.05399094747511653, -0....  0.735501   0.737385   \n",
       "\n",
       "                                         test_report  \\\n",
       "6               precision    recall  f1-score   s...   \n",
       "7               precision    recall  f1-score   s...   \n",
       "4               precision    recall  f1-score   s...   \n",
       "5               precision    recall  f1-score   s...   \n",
       "0               precision    recall  f1-score   s...   \n",
       "1               precision    recall  f1-score   s...   \n",
       "2               precision    recall  f1-score   s...   \n",
       "3               precision    recall  f1-score   s...   \n",
       "\n",
       "                                        valid_report  \n",
       "6               precision    recall  f1-score   s...  \n",
       "7               precision    recall  f1-score   s...  \n",
       "4               precision    recall  f1-score   s...  \n",
       "5               precision    recall  f1-score   s...  \n",
       "0               precision    recall  f1-score   s...  \n",
       "1               precision    recall  f1-score   s...  \n",
       "2               precision    recall  f1-score   s...  \n",
       "3               precision    recall  f1-score   s...  "
      ]
     },
     "execution_count": 45,
     "metadata": {},
     "output_type": "execute_result"
    }
   ],
   "source": [
    "res_df"
   ]
  },
  {
   "cell_type": "markdown",
   "metadata": {},
   "source": [
    "### Доли правильных ответов на тестовой и на проверочной выборках очень близки. Это свидетельствует об отсутствии переобучения. Далее будем рассматривать только лучшую модель, т.е. LinearSVC с использованием Tfidf и параметром min_df = 1."
   ]
  },
  {
   "cell_type": "markdown",
   "metadata": {},
   "source": [
    "### Посмотрим на гистограммы распределений."
   ]
  },
  {
   "cell_type": "markdown",
   "metadata": {},
   "source": [
    "### Истинные значения для выборки (для обучающей/тестовой/проверочной выборок распределение одинаковое, т.к. мы совершали разбиение на обучение, тест и проверку с сохранением баланса классов)."
   ]
  },
  {
   "cell_type": "code",
   "execution_count": 46,
   "metadata": {},
   "outputs": [
    {
     "data": {
      "image/png": "[encoded data removed]",
      "text/plain": [
       "<matplotlib.figure.Figure at 0x66673940>"
      ]
     },
     "metadata": {},
     "output_type": "display_data"
    }
   ],
   "source": [
    "sns.countplot(x='Score', data=reviews, palette='Greens_d')\n",
    "plt.show()"
   ]
  },
  {
   "cell_type": "markdown",
   "metadata": {},
   "source": [
    "### Предсказанные значения для тестовой выборки."
   ]
  },
  {
   "cell_type": "code",
   "execution_count": 47,
   "metadata": {},
   "outputs": [
    {
     "data": {
      "image/png": "[encoded data removed]",
      "text/plain": [
       "<matplotlib.figure.Figure at 0x347b3ef0>"
      ]
     },
     "metadata": {},
     "output_type": "display_data"
    }
   ],
   "source": [
    "sns.countplot(res_df.test_predictions.values[0], palette='Greens_d')\n",
    "plt.show()"
   ]
  },
  {
   "cell_type": "code",
   "execution_count": 48,
   "metadata": {},
   "outputs": [
    {
     "name": "stdout",
     "output_type": "stream",
     "text": [
      "True labels: [(1L, 8363), (2L, 4763), (3L, 6822), (4L, 12905), (5L, 58100)]\n",
      "Predicted labels: [(1, 8426), (2, 2341), (3, 3706), (4, 6682), (5, 69798)]\n"
     ]
    }
   ],
   "source": [
    "print 'True labels:', sorted(Counter(Y_test).items())\n",
    "print 'Predicted labels:', sorted(Counter(res_df.test_predictions.values[0]).items())"
   ]
  },
  {
   "cell_type": "markdown",
   "metadata": {},
   "source": [
    "### Предсказанные значения для проверочной выборки."
   ]
  },
  {
   "cell_type": "code",
   "execution_count": 49,
   "metadata": {},
   "outputs": [
    {
     "data": {
      "image/png": "[encoded data removed]",
      "text/plain": [
       "<matplotlib.figure.Figure at 0x73205898>"
      ]
     },
     "metadata": {},
     "output_type": "display_data"
    }
   ],
   "source": [
    "sns.countplot(res_df.valid_predictions.values[0], palette='Greens_d')\n",
    "plt.show()"
   ]
  },
  {
   "cell_type": "code",
   "execution_count": 50,
   "metadata": {},
   "outputs": [
    {
     "name": "stdout",
     "output_type": "stream",
     "text": [
      "True labels: [(1L, 10454), (2L, 5954), (3L, 8528), (4L, 16131), (5L, 72624)]\n",
      "Predicted labels: [(1, 10784), (2, 2809), (3, 4640), (4, 8266), (5, 87192)]\n"
     ]
    }
   ],
   "source": [
    "print 'True labels:', sorted(Counter(Y_valid).items())\n",
    "print 'Predicted labels:', sorted(Counter(res_df.valid_predictions.values[0]).items())"
   ]
  },
  {
   "cell_type": "code",
   "execution_count": 51,
   "metadata": {},
   "outputs": [],
   "source": [
    "test_labels_df = pd.DataFrame()\n",
    "test_labels_df['test_true'] = Y_test\n",
    "test_labels_df['test_predict'] = res_df.test_predictions.values[0]"
   ]
  },
  {
   "cell_type": "code",
   "execution_count": 52,
   "metadata": {},
   "outputs": [],
   "source": [
    "valid_labels_df = pd.DataFrame()\n",
    "valid_labels_df['valid_true'] = Y_valid\n",
    "valid_labels_df['valid_predict'] = res_df.valid_predictions.values[0]"
   ]
  },
  {
   "cell_type": "code",
   "execution_count": 53,
   "metadata": {},
   "outputs": [
    {
     "data": {
      "text/html": [
       "<div>\n",
       "<style scoped>\n",
       "    .dataframe tbody tr th:only-of-type {\n",
       "        vertical-align: middle;\n",
       "    }\n",
       "\n",
       "    .dataframe tbody tr th {\n",
       "        vertical-align: top;\n",
       "    }\n",
       "\n",
       "    .dataframe thead th {\n",
       "        text-align: right;\n",
       "    }\n",
       "</style>\n",
       "<table border=\"1\" class=\"dataframe\">\n",
       "  <thead>\n",
       "    <tr style=\"text-align: right;\">\n",
       "      <th></th>\n",
       "      <th>test_true</th>\n",
       "      <th>test_predict</th>\n",
       "    </tr>\n",
       "  </thead>\n",
       "  <tbody>\n",
       "    <tr>\n",
       "      <th>count</th>\n",
       "      <td>90953.000000</td>\n",
       "      <td>90953.000000</td>\n",
       "    </tr>\n",
       "    <tr>\n",
       "      <th>mean</th>\n",
       "      <td>4.183205</td>\n",
       "      <td>4.397260</td>\n",
       "    </tr>\n",
       "    <tr>\n",
       "      <th>std</th>\n",
       "      <td>1.310443</td>\n",
       "      <td>1.259794</td>\n",
       "    </tr>\n",
       "    <tr>\n",
       "      <th>min</th>\n",
       "      <td>1.000000</td>\n",
       "      <td>1.000000</td>\n",
       "    </tr>\n",
       "    <tr>\n",
       "      <th>25%</th>\n",
       "      <td>4.000000</td>\n",
       "      <td>5.000000</td>\n",
       "    </tr>\n",
       "    <tr>\n",
       "      <th>50%</th>\n",
       "      <td>5.000000</td>\n",
       "      <td>5.000000</td>\n",
       "    </tr>\n",
       "    <tr>\n",
       "      <th>75%</th>\n",
       "      <td>5.000000</td>\n",
       "      <td>5.000000</td>\n",
       "    </tr>\n",
       "    <tr>\n",
       "      <th>max</th>\n",
       "      <td>5.000000</td>\n",
       "      <td>5.000000</td>\n",
       "    </tr>\n",
       "  </tbody>\n",
       "</table>\n",
       "</div>"
      ],
      "text/plain": [
       "          test_true  test_predict\n",
       "count  90953.000000  90953.000000\n",
       "mean       4.183205      4.397260\n",
       "std        1.310443      1.259794\n",
       "min        1.000000      1.000000\n",
       "25%        4.000000      5.000000\n",
       "50%        5.000000      5.000000\n",
       "75%        5.000000      5.000000\n",
       "max        5.000000      5.000000"
      ]
     },
     "execution_count": 53,
     "metadata": {},
     "output_type": "execute_result"
    }
   ],
   "source": [
    "test_labels_df.describe()"
   ]
  },
  {
   "cell_type": "code",
   "execution_count": 54,
   "metadata": {},
   "outputs": [
    {
     "data": {
      "text/html": [
       "<div>\n",
       "<style scoped>\n",
       "    .dataframe tbody tr th:only-of-type {\n",
       "        vertical-align: middle;\n",
       "    }\n",
       "\n",
       "    .dataframe tbody tr th {\n",
       "        vertical-align: top;\n",
       "    }\n",
       "\n",
       "    .dataframe thead th {\n",
       "        text-align: right;\n",
       "    }\n",
       "</style>\n",
       "<table border=\"1\" class=\"dataframe\">\n",
       "  <thead>\n",
       "    <tr style=\"text-align: right;\">\n",
       "      <th></th>\n",
       "      <th>valid_true</th>\n",
       "      <th>valid_predict</th>\n",
       "    </tr>\n",
       "  </thead>\n",
       "  <tbody>\n",
       "    <tr>\n",
       "      <th>count</th>\n",
       "      <td>113691.000000</td>\n",
       "      <td>113691.000000</td>\n",
       "    </tr>\n",
       "    <tr>\n",
       "      <th>mean</th>\n",
       "      <td>4.183181</td>\n",
       "      <td>4.392133</td>\n",
       "    </tr>\n",
       "    <tr>\n",
       "      <th>std</th>\n",
       "      <td>1.310455</td>\n",
       "      <td>1.267474</td>\n",
       "    </tr>\n",
       "    <tr>\n",
       "      <th>min</th>\n",
       "      <td>1.000000</td>\n",
       "      <td>1.000000</td>\n",
       "    </tr>\n",
       "    <tr>\n",
       "      <th>25%</th>\n",
       "      <td>4.000000</td>\n",
       "      <td>5.000000</td>\n",
       "    </tr>\n",
       "    <tr>\n",
       "      <th>50%</th>\n",
       "      <td>5.000000</td>\n",
       "      <td>5.000000</td>\n",
       "    </tr>\n",
       "    <tr>\n",
       "      <th>75%</th>\n",
       "      <td>5.000000</td>\n",
       "      <td>5.000000</td>\n",
       "    </tr>\n",
       "    <tr>\n",
       "      <th>max</th>\n",
       "      <td>5.000000</td>\n",
       "      <td>5.000000</td>\n",
       "    </tr>\n",
       "  </tbody>\n",
       "</table>\n",
       "</div>"
      ],
      "text/plain": [
       "          valid_true  valid_predict\n",
       "count  113691.000000  113691.000000\n",
       "mean        4.183181       4.392133\n",
       "std         1.310455       1.267474\n",
       "min         1.000000       1.000000\n",
       "25%         4.000000       5.000000\n",
       "50%         5.000000       5.000000\n",
       "75%         5.000000       5.000000\n",
       "max         5.000000       5.000000"
      ]
     },
     "execution_count": 54,
     "metadata": {},
     "output_type": "execute_result"
    }
   ],
   "source": [
    "valid_labels_df.describe()"
   ]
  },
  {
   "cell_type": "code",
   "execution_count": 55,
   "metadata": {},
   "outputs": [
    {
     "name": "stdout",
     "output_type": "stream",
     "text": [
      "             precision    recall  f1-score   support\n",
      "\n",
      "    class 1       0.69      0.69      0.69      8363\n",
      "    class 2       0.57      0.28      0.38      4763\n",
      "    class 3       0.56      0.30      0.39      6822\n",
      "    class 4       0.55      0.28      0.37     12905\n",
      "    class 5       0.80      0.96      0.87     58100\n",
      "\n",
      "avg / total       0.72      0.75      0.72     90953\n",
      "\n"
     ]
    }
   ],
   "source": [
    "print(res_df.test_report.values[0])"
   ]
  },
  {
   "cell_type": "markdown",
   "metadata": {},
   "source": [
    "### Для 2, 3, 4 классов значения метрик значительно ниже, чем для 1 и 5 классов. Это свидетельствует о том, что модель плохо справляется с классификацией этих объектов. Только примерно 55% объектов этих классов оказываются предсказанны правильно и это составляет только треть от общего количества объектов этих классов."
   ]
  },
  {
   "cell_type": "markdown",
   "metadata": {},
   "source": [
    "### Посмотрим на самые популярные слова, полученные в лучшей модели."
   ]
  },
  {
   "cell_type": "code",
   "execution_count": 56,
   "metadata": {},
   "outputs": [],
   "source": [
    "tfidf_vectorizer = TfidfVectorizer()\n",
    "X = tfidf_vectorizer.fit_transform(X_train)\n",
    "\n",
    "X_t = tfidf_vectorizer.transform(X_test)\n",
    "X_v = tfidf_vectorizer.transform(X_valid)"
   ]
  },
  {
   "cell_type": "code",
   "execution_count": 57,
   "metadata": {},
   "outputs": [
    {
     "name": "stdout",
     "output_type": "stream",
     "text": [
      "Wall time: 1min 4s\n"
     ]
    }
   ],
   "source": [
    "%%time\n",
    "\n",
    "linearsvc = LinearSVC()\n",
    "linearsvc.fit(X, Y_train)"
   ]
  },
  {
   "cell_type": "code",
   "execution_count": 58,
   "metadata": {},
   "outputs": [],
   "source": [
    "coeffs = linearsvc.coef_\n",
    "top_words = []"
   ]
  },
  {
   "cell_type": "code",
   "execution_count": 59,
   "metadata": {},
   "outputs": [],
   "source": [
    "for i in range(len(coeffs)):\n",
    "    top_words.append((i + 1, [tfidf_vectorizer.get_feature_names()[list(coeffs[i]).index(j)] for j in sorted(coeffs[i], reverse=True)[:5]]))"
   ]
  },
  {
   "cell_type": "code",
   "execution_count": 60,
   "metadata": {},
   "outputs": [
    {
     "data": {
      "text/plain": [
       "[(1, [u'worst', u'limpest', u'putrid', u'worsen', u'splendia']),\n",
       " (2, [u'silvered', u'retard', u'ital', u'chewlotta', u'teai']),\n",
       " (3, [u'ideology', u'unfreshness', u'realllly', u'b003mwbfxy', u'vh']),\n",
       " (4, [u'flattens', u'b000zsx4d2', u'boodas', u'18cnt', u'realatively']),\n",
       " (5, [u'hahaha', u'lifespan', u'botts', u'loko', u'whimpy'])]"
      ]
     },
     "execution_count": 60,
     "metadata": {},
     "output_type": "execute_result"
    }
   ],
   "source": [
    "top_words"
   ]
  },
  {
   "cell_type": "markdown",
   "metadata": {},
   "source": [
    "### Вернёмся к выборке, к которой мы применили стемминг."
   ]
  },
  {
   "cell_type": "code",
   "execution_count": 61,
   "metadata": {},
   "outputs": [],
   "source": [
    "stemmed_pop_words = get_popular_words(Stemmed_amazon_text)"
   ]
  },
  {
   "cell_type": "code",
   "execution_count": 62,
   "metadata": {
    "scrolled": true
   },
   "outputs": [
    {
     "data": {
      "text/plain": [
       "[(u'br', 647112),\n",
       " (u's', 303326),\n",
       " (u't', 301927),\n",
       " (u'lik', 288933),\n",
       " (u'tast', 266155),\n",
       " (u'flav', 222289),\n",
       " (u'produc', 208517),\n",
       " (u'us', 206419),\n",
       " (u'good', 205357),\n",
       " ('lov', 193917),\n",
       " ('coff', 177272),\n",
       " ('just', 173989),\n",
       " ('gre', 169214),\n",
       " ('tea', 153904),\n",
       " (u'food', 153414),\n",
       " (u'mak', 134467),\n",
       " (u'real', 133430),\n",
       " ('eat', 119523),\n",
       " (u'pack', 108623),\n",
       " ('buy', 108460)]"
      ]
     },
     "execution_count": 62,
     "metadata": {},
     "output_type": "execute_result"
    }
   ],
   "source": [
    "stemmed_pop_words[:20]"
   ]
  },
  {
   "cell_type": "markdown",
   "metadata": {},
   "source": [
    "### Разобьём выборку на обучающую, тестовую и проверочную."
   ]
  },
  {
   "cell_type": "code",
   "execution_count": 63,
   "metadata": {},
   "outputs": [],
   "source": [
    "X_train_stem, X_valid_stem, Y_train_stem, Y_valid_stem = train_test_split(reviews['Stemmed'], reviews['Score'],\n",
    "                                                    test_size=0.2, random_state=1, stratify=reviews['Score'], shuffle=True)\n",
    "X_train_stem, X_test_stem, Y_train_stem, Y_test_stem = train_test_split(X_train_stem, Y_train_stem,\n",
    "                                                    test_size=0.2, random_state=1, stratify=Y_train_stem, shuffle=True)"
   ]
  },
  {
   "cell_type": "markdown",
   "metadata": {},
   "source": [
    "### Построение модели."
   ]
  },
  {
   "cell_type": "code",
   "execution_count": 64,
   "metadata": {},
   "outputs": [],
   "source": [
    "stemmed_predictions = []"
   ]
  },
  {
   "cell_type": "code",
   "execution_count": 65,
   "metadata": {},
   "outputs": [],
   "source": [
    "tfidf_vect = TfidfVectorizer()\n",
    "X = tfidf_vect.fit_transform(X_train_stem)"
   ]
  },
  {
   "cell_type": "code",
   "execution_count": 66,
   "metadata": {},
   "outputs": [],
   "source": [
    "X_t = tfidf_vect.transform(X_test_stem)\n",
    "X_v = tfidf_vect.transform(X_valid_stem)"
   ]
  },
  {
   "cell_type": "code",
   "execution_count": 67,
   "metadata": {},
   "outputs": [
    {
     "name": "stdout",
     "output_type": "stream",
     "text": [
      "Количество признаков: 62405\n"
     ]
    }
   ],
   "source": [
    "print('Количество признаков: {}'.format(X.shape[1]))"
   ]
  },
  {
   "cell_type": "code",
   "execution_count": 68,
   "metadata": {},
   "outputs": [
    {
     "name": "stdout",
     "output_type": "stream",
     "text": [
      "Wall time: 1min 11s\n"
     ]
    }
   ],
   "source": [
    "%%time\n",
    "\n",
    "linearsvc = LinearSVC()\n",
    "linearsvc.fit(X, Y_train_stem)"
   ]
  },
  {
   "cell_type": "code",
   "execution_count": 69,
   "metadata": {},
   "outputs": [],
   "source": [
    "stemmed_predictions.append(('{} + {} + {}'.format(linearsvc.__class__.__name__, tfidf_vect.__class__.__name__,\n",
    "                                            1), linearsvc.predict(X_t), linearsvc.predict(X_v), linearsvc.coef_))"
   ]
  },
  {
   "cell_type": "code",
   "execution_count": 70,
   "metadata": {},
   "outputs": [],
   "source": [
    "stemmed_res_df = pd.DataFrame(stemmed_predictions, columns=['model', 'test_predictions', 'valid_predictions', 'model_coeffs'])"
   ]
  },
  {
   "cell_type": "code",
   "execution_count": 71,
   "metadata": {},
   "outputs": [
    {
     "data": {
      "text/html": [
       "<div>\n",
       "<style scoped>\n",
       "    .dataframe tbody tr th:only-of-type {\n",
       "        vertical-align: middle;\n",
       "    }\n",
       "\n",
       "    .dataframe tbody tr th {\n",
       "        vertical-align: top;\n",
       "    }\n",
       "\n",
       "    .dataframe thead th {\n",
       "        text-align: right;\n",
       "    }\n",
       "</style>\n",
       "<table border=\"1\" class=\"dataframe\">\n",
       "  <thead>\n",
       "    <tr style=\"text-align: right;\">\n",
       "      <th></th>\n",
       "      <th>model</th>\n",
       "      <th>test_predictions</th>\n",
       "      <th>valid_predictions</th>\n",
       "      <th>model_coeffs</th>\n",
       "    </tr>\n",
       "  </thead>\n",
       "  <tbody>\n",
       "    <tr>\n",
       "      <th>0</th>\n",
       "      <td>LinearSVC + TfidfVectorizer + 1</td>\n",
       "      <td>[1, 2, 5, 5, 5, 5, 4, 5, 5, 5, 5, 5, 1, 4, 5, ...</td>\n",
       "      <td>[1, 5, 5, 5, 3, 5, 5, 5, 5, 5, 5, 5, 4, 5, 5, ...</td>\n",
       "      <td>[[0.5541851253713543, -0.07285589367324243, -0...</td>\n",
       "    </tr>\n",
       "  </tbody>\n",
       "</table>\n",
       "</div>"
      ],
      "text/plain": [
       "                             model  \\\n",
       "0  LinearSVC + TfidfVectorizer + 1   \n",
       "\n",
       "                                    test_predictions  \\\n",
       "0  [1, 2, 5, 5, 5, 5, 4, 5, 5, 5, 5, 5, 1, 4, 5, ...   \n",
       "\n",
       "                                   valid_predictions  \\\n",
       "0  [1, 5, 5, 5, 3, 5, 5, 5, 5, 5, 5, 5, 4, 5, 5, ...   \n",
       "\n",
       "                                        model_coeffs  \n",
       "0  [[0.5541851253713543, -0.07285589367324243, -0...  "
      ]
     },
     "execution_count": 71,
     "metadata": {},
     "output_type": "execute_result"
    }
   ],
   "source": [
    "stemmed_res_df"
   ]
  },
  {
   "cell_type": "code",
   "execution_count": 72,
   "metadata": {},
   "outputs": [],
   "source": [
    "stemmed_res_df['test_acc'] = [metrics.accuracy_score(Y_test_stem, pred) for pred in stemmed_res_df.test_predictions]\n",
    "stemmed_res_df['valid_acc'] = [metrics.accuracy_score(Y_valid_stem, pred) for pred in stemmed_res_df.valid_predictions]\n",
    "stemmed_res_df['test_report'] = [metrics.classification_report(Y_test_stem, pred, target_names=target_names) for pred in stemmed_res_df.test_predictions]\n",
    "stemmed_res_df['valid_report'] = [metrics.classification_report(Y_valid_stem, pred, target_names=target_names) for pred in stemmed_res_df.valid_predictions]"
   ]
  },
  {
   "cell_type": "code",
   "execution_count": 73,
   "metadata": {},
   "outputs": [
    {
     "data": {
      "text/html": [
       "<div>\n",
       "<style scoped>\n",
       "    .dataframe tbody tr th:only-of-type {\n",
       "        vertical-align: middle;\n",
       "    }\n",
       "\n",
       "    .dataframe tbody tr th {\n",
       "        vertical-align: top;\n",
       "    }\n",
       "\n",
       "    .dataframe thead th {\n",
       "        text-align: right;\n",
       "    }\n",
       "</style>\n",
       "<table border=\"1\" class=\"dataframe\">\n",
       "  <thead>\n",
       "    <tr style=\"text-align: right;\">\n",
       "      <th></th>\n",
       "      <th>model</th>\n",
       "      <th>test_predictions</th>\n",
       "      <th>valid_predictions</th>\n",
       "      <th>model_coeffs</th>\n",
       "      <th>test_acc</th>\n",
       "      <th>valid_acc</th>\n",
       "      <th>test_report</th>\n",
       "      <th>valid_report</th>\n",
       "    </tr>\n",
       "  </thead>\n",
       "  <tbody>\n",
       "    <tr>\n",
       "      <th>0</th>\n",
       "      <td>LinearSVC + TfidfVectorizer + 1</td>\n",
       "      <td>[1, 2, 5, 5, 5, 5, 4, 5, 5, 5, 5, 5, 1, 4, 5, ...</td>\n",
       "      <td>[1, 5, 5, 5, 3, 5, 5, 5, 5, 5, 5, 5, 4, 5, 5, ...</td>\n",
       "      <td>[[0.5541851253713543, -0.07285589367324243, -0...</td>\n",
       "      <td>0.734643</td>\n",
       "      <td>0.737587</td>\n",
       "      <td>precision    recall  f1-score   s...</td>\n",
       "      <td>precision    recall  f1-score   s...</td>\n",
       "    </tr>\n",
       "  </tbody>\n",
       "</table>\n",
       "</div>"
      ],
      "text/plain": [
       "                             model  \\\n",
       "0  LinearSVC + TfidfVectorizer + 1   \n",
       "\n",
       "                                    test_predictions  \\\n",
       "0  [1, 2, 5, 5, 5, 5, 4, 5, 5, 5, 5, 5, 1, 4, 5, ...   \n",
       "\n",
       "                                   valid_predictions  \\\n",
       "0  [1, 5, 5, 5, 3, 5, 5, 5, 5, 5, 5, 5, 4, 5, 5, ...   \n",
       "\n",
       "                                        model_coeffs  test_acc  valid_acc  \\\n",
       "0  [[0.5541851253713543, -0.07285589367324243, -0...  0.734643   0.737587   \n",
       "\n",
       "                                         test_report  \\\n",
       "0               precision    recall  f1-score   s...   \n",
       "\n",
       "                                        valid_report  \n",
       "0               precision    recall  f1-score   s...  "
      ]
     },
     "execution_count": 73,
     "metadata": {},
     "output_type": "execute_result"
    }
   ],
   "source": [
    "stemmed_res_df"
   ]
  },
  {
   "cell_type": "code",
   "execution_count": 74,
   "metadata": {},
   "outputs": [
    {
     "name": "stdout",
     "output_type": "stream",
     "text": [
      "             precision    recall  f1-score   support\n",
      "\n",
      "    class 1       0.65      0.67      0.66      8363\n",
      "    class 2       0.54      0.20      0.30      4763\n",
      "    class 3       0.52      0.24      0.33      6822\n",
      "    class 4       0.51      0.23      0.31     12905\n",
      "    class 5       0.78      0.96      0.86     58100\n",
      "\n",
      "avg / total       0.70      0.73      0.69     90953\n",
      "\n"
     ]
    }
   ],
   "source": [
    "print(stemmed_res_df.test_report[0])"
   ]
  },
  {
   "cell_type": "markdown",
   "metadata": {},
   "source": [
    "### Модель, использующая стемминг для нормализации слов показала более низкое качество по сравнению с моделью, использующей лемматизацию. Для дальнейших исследований будем использовать модель, использующую лемматизацию."
   ]
  },
  {
   "cell_type": "markdown",
   "metadata": {},
   "source": [
    "### Для того, чтобы модель не настраивалась на преобладающие классы, изменим значение весов классов. Назначим классам веса, обратно пропорциональные частотам классов во входных данных."
   ]
  },
  {
   "cell_type": "code",
   "execution_count": 78,
   "metadata": {},
   "outputs": [],
   "source": [
    "tfidf_vectorizer = TfidfVectorizer()\n",
    "X = tfidf_vectorizer.fit_transform(X_train)\n",
    "\n",
    "X_t = tfidf_vectorizer.transform(X_test)\n",
    "X_v = tfidf_vectorizer.transform(X_valid)"
   ]
  },
  {
   "cell_type": "code",
   "execution_count": 76,
   "metadata": {},
   "outputs": [
    {
     "name": "stdout",
     "output_type": "stream",
     "text": [
      "Wall time: 1min 29s\n"
     ]
    }
   ],
   "source": [
    "%%time\n",
    "\n",
    "linearsvc = LinearSVC(class_weight='balanced')\n",
    "linearsvc.fit(X, Y_train)"
   ]
  },
  {
   "cell_type": "code",
   "execution_count": 77,
   "metadata": {},
   "outputs": [],
   "source": [
    "balanced_predictions = linearsvc.predict(X_t)"
   ]
  },
  {
   "cell_type": "code",
   "execution_count": 79,
   "metadata": {},
   "outputs": [
    {
     "name": "stdout",
     "output_type": "stream",
     "text": [
      "             precision    recall  f1-score   support\n",
      "\n",
      "    class 1       0.63      0.72      0.67      8363\n",
      "    class 2       0.37      0.45      0.41      4763\n",
      "    class 3       0.41      0.46      0.43      6822\n",
      "    class 4       0.48      0.39      0.43     12905\n",
      "    class 5       0.87      0.86      0.86     58100\n",
      "\n",
      "avg / total       0.73      0.73      0.73     90953\n",
      "\n"
     ]
    }
   ],
   "source": [
    "print(metrics.classification_report(Y_test, balanced_predictions, target_names=target_names))"
   ]
  },
  {
   "cell_type": "code",
   "execution_count": 80,
   "metadata": {},
   "outputs": [
    {
     "name": "stdout",
     "output_type": "stream",
     "text": [
      "0.7272107572042703\n"
     ]
    }
   ],
   "source": [
    "print(metrics.accuracy_score(Y_test, balanced_predictions))"
   ]
  },
  {
   "cell_type": "code",
   "execution_count": 81,
   "metadata": {},
   "outputs": [
    {
     "name": "stdout",
     "output_type": "stream",
     "text": [
      "True labels: [(1L, 8363), (2L, 4763), (3L, 6822), (4L, 12905), (5L, 58100)]\n",
      "Predicted labels: [(1, 9517), (2, 5919), (3, 7648), (4, 10453), (5, 57416)]\n"
     ]
    }
   ],
   "source": [
    "print 'True labels:', sorted(Counter(Y_test).items())\n",
    "print 'Predicted labels:', sorted(Counter(balanced_predictions).items())"
   ]
  },
  {
   "cell_type": "code",
   "execution_count": 82,
   "metadata": {},
   "outputs": [
    {
     "data": {
      "image/png": "[encoded data removed]",
      "text/plain": [
       "<matplotlib.figure.Figure at 0x8cefa9e8>"
      ]
     },
     "metadata": {},
     "output_type": "display_data"
    }
   ],
   "source": [
    "sns.countplot(Y_test, palette='Greens_d')\n",
    "plt.show()"
   ]
  },
  {
   "cell_type": "code",
   "execution_count": 83,
   "metadata": {},
   "outputs": [
    {
     "data": {
      "image/png": "[encoded data removed]",
      "text/plain": [
       "<matplotlib.figure.Figure at 0x66f07a58>"
      ]
     },
     "metadata": {},
     "output_type": "display_data"
    }
   ],
   "source": [
    "sns.countplot(balanced_predictions, palette='Greens_d')\n",
    "plt.show()"
   ]
  },
  {
   "cell_type": "markdown",
   "metadata": {},
   "source": [
    "### Доля правильных ответов уменьшилась, но при этом выросла полнота, уменьшилась точность на классах 2, 3, 4 и увеличилось значение F-меры на этих классах."
   ]
  },
  {
   "cell_type": "markdown",
   "metadata": {},
   "source": [
    "### Выводы:\n",
    "### Мы построили линейные модели LogisticRegression и LinearSVC с использованием как CountVectorizer, так и с использованием TfidfVectorizer. Лучшего качества удалось достигнуть при использовании LinearSVC с TfidfVectorizer. Мы не столкнулись с проблемой переобучения. Доля правильных ответов составляет 75% на тестовой и на проверочной выборках. Это неплохой результат для многоклассовой классификации. Однако, в силу несбалансированности выборки, заметно преобладание 5-ого класса, что негативно сказалось на всей модели в целом, как видно из полученных результатов, модель слишком часто предсказывает 5-ый класс. Для борьбы с этим можно использовать oversampling, undersampling или корректировку весов классов. Корректировка весов классов позволила модели лучше различать объекты 2, 3, 4 классов, но accuracy упала. Для улучшения модели можно применить undersampling, дополнить словарь стоп-слов и воспользоваться токенизатором."
   ]
  }
 ],
 "metadata": {
  "kernelspec": {
   "display_name": "Python 2",
   "language": "python",
   "name": "python2"
  },
  "language_info": {
   "codemirror_mode": {
    "name": "ipython",
    "version": 2
   },
   "file_extension": ".py",
   "mimetype": "text/x-python",
   "name": "python",
   "nbconvert_exporter": "python",
   "pygments_lexer": "ipython2",
   "version": "2.7.14"
  }
 },
 "nbformat": 4,
 "nbformat_minor": 2
}
